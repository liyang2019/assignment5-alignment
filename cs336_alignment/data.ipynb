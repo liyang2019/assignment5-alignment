{
 "cells": [
  {
   "cell_type": "code",
   "execution_count": null,
   "id": "23e73853",
   "metadata": {},
   "outputs": [],
   "source": [
    "import json\n",
    "import os\n",
    "import glob\n",
    "import tqdm\n",
    "import pprint\n",
    "import collections\n",
    "import random\n",
    "import numpy as np\n",
    "\n",
    "from together import Together"
   ]
  },
  {
   "cell_type": "code",
   "execution_count": null,
   "id": "29ffb67e",
   "metadata": {},
   "outputs": [
    {
     "name": "stdout",
     "output_type": "stream",
     "text": [
      "A conversation between User and Assistant. The User asks a question, and the Assistant solves it. The Assistant first thinks about the reasoning process in the mind and then provides the User with the answer. The reasoning process is enclosed within <think> </think> and answer is enclosed within <answer> </answer> tags, respectively, i.e., <think> reasoning process here </think> <answer> answer here </answer>.\n",
      "User: {question}\n",
      "Assistant: <think>\n"
     ]
    }
   ],
   "source": [
    "with open('./prompts/r1_zero.prompt') as f:\n",
    "    prompt_template = f.read()\n",
    "print(prompt_template)"
   ]
  },
  {
   "cell_type": "code",
   "execution_count": 3,
   "id": "8225caf7",
   "metadata": {},
   "outputs": [
    {
     "name": "stderr",
     "output_type": "stream",
     "text": [
      "100%|██████████| 7500/7500 [00:01<00:00, 6869.08it/s]\n"
     ]
    },
    {
     "name": "stdout",
     "output_type": "stream",
     "text": [
      "7500\n"
     ]
    },
    {
     "name": "stderr",
     "output_type": "stream",
     "text": [
      "100%|██████████| 5000/5000 [00:00<00:00, 6613.61it/s]"
     ]
    },
    {
     "name": "stdout",
     "output_type": "stream",
     "text": [
      "5000\n"
     ]
    },
    {
     "name": "stderr",
     "output_type": "stream",
     "text": [
      "\n"
     ]
    }
   ],
   "source": [
    "train_examples = []\n",
    "for fname in tqdm.tqdm(glob.glob(\"../data/MATH/train/*/*json\")):\n",
    "    with open(fname, \"r\") as f:\n",
    "        train_examples.append(json.load(f))\n",
    "print(len(train_examples))\n",
    "with open(\"../data/MATH/train.jsonl\", \"w\") as f:\n",
    "    for example in train_examples:\n",
    "        f.write(json.dumps(example) + \"\\n\")\n",
    "with open(\"../data/MATH/sft.jsonl\", \"w\") as f:\n",
    "    for example in train_examples:\n",
    "        sft_example = {\n",
    "            \"prompt\": prompt_template.format(question=example[\"problem\"]),\n",
    "            \"response\": example[\"solution\"],\n",
    "        }\n",
    "        f.write(json.dumps(sft_example) + \"\\n\")\n",
    "\n",
    "test_examples = []\n",
    "for fname in tqdm.tqdm(glob.glob(\"../data/MATH/test/*/*json\")):\n",
    "    with open(fname, \"r\") as f:\n",
    "        test_examples.append(json.load(f))\n",
    "print(len(test_examples))\n",
    "with open(\"../data/MATH/validation.jsonl\", \"w\") as f:\n",
    "    for example in test_examples:\n",
    "        f.write(json.dumps(example) + \"\\n\")"
   ]
  },
  {
   "cell_type": "code",
   "execution_count": null,
   "id": "f856b622",
   "metadata": {},
   "outputs": [
    {
     "name": "stdout",
     "output_type": "stream",
     "text": [
      "Counter({'f0_a0': 4186, 'f1_a0': 691, 'f1_a1': 123})\n",
      "format accuracy 0.1628\n",
      "answer accuracy 0.0246\n"
     ]
    }
   ],
   "source": [
    "# zero-shot\n",
    "import json\n",
    "import collections\n",
    "\n",
    "results = []\n",
    "with open('../eval_result.jsonl') as f:\n",
    "    for line in f.readlines():\n",
    "        results.append(json.loads(line))\n",
    "\n",
    "counter = collections.Counter()\n",
    "for res in results:\n",
    "    if res['format_reward'] > 0 and res['answer_reward'] > 0:\n",
    "        counter['f1_a1'] += 1\n",
    "    elif res['format_reward'] > 0:\n",
    "        counter['f1_a0'] += 1\n",
    "    elif res['answer_reward'] > 0:\n",
    "        counter['f0_a1'] += 1\n",
    "    else:\n",
    "        counter['f0_a0'] += 1\n",
    "\n",
    "print(counter)\n",
    "print('format accuracy', (counter['f1_a0'] + counter['f1_a1']) / sum(counter.values()))\n",
    "print('answer accuracy', (counter['f1_a1']) / sum(counter.values()))\n"
   ]
  },
  {
   "cell_type": "code",
   "execution_count": null,
   "id": "e64b057e",
   "metadata": {},
   "outputs": [
    {
     "name": "stdout",
     "output_type": "stream",
     "text": [
      "Counter({'f1_a0': 2675, 'f1_a1': 2124, 'f0_a0': 201})\n",
      "format accuracy 0.9598\n",
      "answer accuracy 0.4248\n"
     ]
    }
   ],
   "source": [
    "# expert iteration\n",
    "import json\n",
    "import collections\n",
    "\n",
    "results = []\n",
    "with open('../experiments/02-07-2025-00-15-20/eval_results-1.jsonl') as f:\n",
    "    for line in f.readlines():\n",
    "        results.append(json.loads(line))\n",
    "\n",
    "counter = collections.Counter()\n",
    "for res in results:\n",
    "    if res['format_reward'] > 0 and res['answer_reward'] > 0:\n",
    "        counter['f1_a1'] += 1\n",
    "    elif res['format_reward'] > 0:\n",
    "        counter['f1_a0'] += 1\n",
    "    elif res['answer_reward'] > 0:\n",
    "        counter['f0_a1'] += 1\n",
    "    else:\n",
    "        counter['f0_a0'] += 1\n",
    "\n",
    "print(counter)\n",
    "print('format accuracy', (counter['f1_a0'] + counter['f1_a1']) / sum(counter.values()))\n",
    "print('answer accuracy', (counter['f1_a1']) / sum(counter.values()))"
   ]
  },
  {
   "cell_type": "code",
   "execution_count": null,
   "id": "46826416",
   "metadata": {},
   "outputs": [],
   "source": []
  }
 ],
 "metadata": {
  "kernelspec": {
   "display_name": "alignment",
   "language": "python",
   "name": "python3"
  },
  "language_info": {
   "codemirror_mode": {
    "name": "ipython",
    "version": 3
   },
   "file_extension": ".py",
   "mimetype": "text/x-python",
   "name": "python",
   "nbconvert_exporter": "python",
   "pygments_lexer": "ipython3",
   "version": "3.12.11"
  }
 },
 "nbformat": 4,
 "nbformat_minor": 5
}
